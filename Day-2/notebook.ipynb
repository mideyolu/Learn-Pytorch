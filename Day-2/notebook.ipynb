{
 "cells": [
  {
   "cell_type": "markdown",
   "metadata": {},
   "source": [
    "### Pytorch Basics"
   ]
  },
  {
   "cell_type": "code",
   "execution_count": 2,
   "metadata": {},
   "outputs": [
    {
     "data": {
      "text/plain": [
       "'2.2.2+cpu'"
      ]
     },
     "execution_count": 2,
     "metadata": {},
     "output_type": "execute_result"
    }
   ],
   "source": [
    "import torch\n",
    "\n",
    "torch.__version__"
   ]
  },
  {
   "cell_type": "markdown",
   "metadata": {},
   "source": [
    "#### Reshaping , Viewing, Stacking, Squeeze, Unsqueeze, and Permute Tensors\n",
    "\n",
    "1. Reshaping --> ``` Changes an input tensor to a defined shape ```\n",
    "2. View --> ``` Return a view of an inout tensor of certain shape but shares the same memory as the orignal tensor ```\n",
    "3. Stacking --> ```Combing  multiple tensor on-top of eachother ```\n",
    "4. Squeeze --> ``` Removes all `1` dimensions from a tensor ```\n",
    "5. Unsqueeze --> ``` add a `1` dimension to a target tensor ```\n",
    "6. Permute --> ``` Return a view of the input with dimensions swapped in a certain way```"
   ]
  },
  {
   "cell_type": "code",
   "execution_count": 53,
   "metadata": {},
   "outputs": [],
   "source": [
    "#creating a tensor\n",
    "x= torch.arange(start=1, end=10, step=0.5, dtype=(torch.float32))"
   ]
  },
  {
   "cell_type": "code",
   "execution_count": 54,
   "metadata": {},
   "outputs": [
    {
     "data": {
      "text/plain": [
       "(tensor([1.0000, 1.5000, 2.0000, 2.5000, 3.0000, 3.5000, 4.0000, 4.5000, 5.0000,\n",
       "         5.5000, 6.0000, 6.5000, 7.0000, 7.5000, 8.0000, 8.5000, 9.0000, 9.5000]),\n",
       " torch.Size([18]))"
      ]
     },
     "execution_count": 54,
     "metadata": {},
     "output_type": "execute_result"
    }
   ],
   "source": [
    "x, x.shape"
   ]
  },
  {
   "cell_type": "code",
   "execution_count": 55,
   "metadata": {},
   "outputs": [
    {
     "data": {
      "text/plain": [
       "tensor([[1.0000, 1.5000, 2.0000],\n",
       "        [2.5000, 3.0000, 3.5000],\n",
       "        [4.0000, 4.5000, 5.0000],\n",
       "        [5.5000, 6.0000, 6.5000],\n",
       "        [7.0000, 7.5000, 8.0000],\n",
       "        [8.5000, 9.0000, 9.5000]])"
      ]
     },
     "execution_count": 55,
     "metadata": {},
     "output_type": "execute_result"
    }
   ],
   "source": [
    "#reshaping\n",
    "x_reshape = x.reshape(6,3)\n",
    "x_reshape"
   ]
  },
  {
   "cell_type": "code",
   "execution_count": 56,
   "metadata": {},
   "outputs": [
    {
     "data": {
      "text/plain": [
       "tensor([[1.0000, 1.5000],\n",
       "        [2.0000, 2.5000],\n",
       "        [3.0000, 3.5000],\n",
       "        [4.0000, 4.5000],\n",
       "        [5.0000, 5.5000],\n",
       "        [6.0000, 6.5000],\n",
       "        [7.0000, 7.5000],\n",
       "        [8.0000, 8.5000],\n",
       "        [9.0000, 9.5000]])"
      ]
     },
     "execution_count": 56,
     "metadata": {},
     "output_type": "execute_result"
    }
   ],
   "source": [
    "#reshaping aagain\n",
    "x_reshape = x.reshape(9,2)\n",
    "x_reshape"
   ]
  },
  {
   "cell_type": "code",
   "execution_count": 57,
   "metadata": {},
   "outputs": [
    {
     "data": {
      "text/plain": [
       "torch.Size([9, 2])"
      ]
     },
     "execution_count": 57,
     "metadata": {},
     "output_type": "execute_result"
    }
   ],
   "source": [
    "#changing a view\n",
    "z= x.view(9,2)\n",
    "z.shape"
   ]
  },
  {
   "cell_type": "code",
   "execution_count": 58,
   "metadata": {},
   "outputs": [
    {
     "data": {
      "text/plain": [
       "tensor([[  3.2500,   5.7500,   8.2500,  10.7500,  13.2500,  15.7500,  18.2500,\n",
       "          20.7500,  23.2500],\n",
       "        [  5.7500,  10.2500,  14.7500,  19.2500,  23.7500,  28.2500,  32.7500,\n",
       "          37.2500,  41.7500],\n",
       "        [  8.2500,  14.7500,  21.2500,  27.7500,  34.2500,  40.7500,  47.2500,\n",
       "          53.7500,  60.2500],\n",
       "        [ 10.7500,  19.2500,  27.7500,  36.2500,  44.7500,  53.2500,  61.7500,\n",
       "          70.2500,  78.7500],\n",
       "        [ 13.2500,  23.7500,  34.2500,  44.7500,  55.2500,  65.7500,  76.2500,\n",
       "          86.7500,  97.2500],\n",
       "        [ 15.7500,  28.2500,  40.7500,  53.2500,  65.7500,  78.2500,  90.7500,\n",
       "         103.2500, 115.7500],\n",
       "        [ 18.2500,  32.7500,  47.2500,  61.7500,  76.2500,  90.7500, 105.2500,\n",
       "         119.7500, 134.2500],\n",
       "        [ 20.7500,  37.2500,  53.7500,  70.2500,  86.7500, 103.2500, 119.7500,\n",
       "         136.2500, 152.7500],\n",
       "        [ 23.2500,  41.7500,  60.2500,  78.7500,  97.2500, 115.7500, 134.2500,\n",
       "         152.7500, 171.2500]])"
      ]
     },
     "execution_count": 58,
     "metadata": {},
     "output_type": "execute_result"
    }
   ],
   "source": [
    "z @ x_reshape.T"
   ]
  },
  {
   "cell_type": "code",
   "execution_count": 59,
   "metadata": {},
   "outputs": [
    {
     "data": {
      "text/plain": [
       "tensor([1.0000, 1.5000, 2.0000, 2.5000, 3.0000, 3.5000, 4.0000, 4.5000, 5.0000,\n",
       "        5.5000, 6.0000, 6.5000, 7.0000, 7.5000, 8.0000, 8.5000, 9.0000, 9.5000])"
      ]
     },
     "execution_count": 59,
     "metadata": {},
     "output_type": "execute_result"
    }
   ],
   "source": [
    "x"
   ]
  },
  {
   "cell_type": "code",
   "execution_count": 60,
   "metadata": {},
   "outputs": [
    {
     "data": {
      "text/plain": [
       "tensor([[1.0000, 1.5000],\n",
       "        [2.0000, 2.5000],\n",
       "        [3.0000, 3.5000],\n",
       "        [4.0000, 4.5000],\n",
       "        [5.0000, 5.5000],\n",
       "        [6.0000, 6.5000],\n",
       "        [7.0000, 7.5000],\n",
       "        [8.0000, 8.5000],\n",
       "        [9.0000, 9.5000]])"
      ]
     },
     "execution_count": 60,
     "metadata": {},
     "output_type": "execute_result"
    }
   ],
   "source": [
    "z"
   ]
  },
  {
   "cell_type": "code",
   "execution_count": 61,
   "metadata": {},
   "outputs": [],
   "source": [
    "#changing the first index\n",
    "z[:, 0] =5"
   ]
  },
  {
   "cell_type": "code",
   "execution_count": 65,
   "metadata": {},
   "outputs": [
    {
     "data": {
      "text/plain": [
       "tensor(5.)"
      ]
     },
     "execution_count": 65,
     "metadata": {},
     "output_type": "execute_result"
    }
   ],
   "source": [
    "x[0]"
   ]
  },
  {
   "cell_type": "code",
   "execution_count": 77,
   "metadata": {},
   "outputs": [
    {
     "data": {
      "text/plain": [
       "tensor([[5.0000, 5.0000, 5.0000, 5.0000],\n",
       "        [1.5000, 1.5000, 1.5000, 1.5000],\n",
       "        [5.0000, 5.0000, 5.0000, 5.0000],\n",
       "        [2.5000, 2.5000, 2.5000, 2.5000],\n",
       "        [5.0000, 5.0000, 5.0000, 5.0000],\n",
       "        [3.5000, 3.5000, 3.5000, 3.5000],\n",
       "        [5.0000, 5.0000, 5.0000, 5.0000],\n",
       "        [4.5000, 4.5000, 4.5000, 4.5000],\n",
       "        [5.0000, 5.0000, 5.0000, 5.0000],\n",
       "        [5.5000, 5.5000, 5.5000, 5.5000],\n",
       "        [5.0000, 5.0000, 5.0000, 5.0000],\n",
       "        [6.5000, 6.5000, 6.5000, 6.5000],\n",
       "        [5.0000, 5.0000, 5.0000, 5.0000],\n",
       "        [7.5000, 7.5000, 7.5000, 7.5000],\n",
       "        [5.0000, 5.0000, 5.0000, 5.0000],\n",
       "        [8.5000, 8.5000, 8.5000, 8.5000],\n",
       "        [5.0000, 5.0000, 5.0000, 5.0000],\n",
       "        [9.5000, 9.5000, 9.5000, 9.5000]])"
      ]
     },
     "execution_count": 77,
     "metadata": {},
     "output_type": "execute_result"
    }
   ],
   "source": [
    "#working with stacks\n",
    "x_stacked= torch.stack([x,x,x,x], dim=1)\n",
    "x_stacked"
   ]
  },
  {
   "cell_type": "code",
   "execution_count": 89,
   "metadata": {},
   "outputs": [
    {
     "name": "stdout",
     "output_type": "stream",
     "text": [
      "Reshaped Tensore torch.Size([1, 18])\n"
     ]
    }
   ],
   "source": [
    "#working with squeeze\n",
    "x_reshape=x_reshape.reshape(1,-1)\n",
    "print('Reshaped Tensore',x_reshape.shape)"
   ]
  },
  {
   "cell_type": "code",
   "execution_count": 88,
   "metadata": {},
   "outputs": [
    {
     "name": "stdout",
     "output_type": "stream",
     "text": [
      "Working with Squeeze:  torch.Size([18])\n"
     ]
    }
   ],
   "source": [
    "print('Working with Squeeze: ',x_reshape.squeeze().shape)"
   ]
  },
  {
   "cell_type": "code",
   "execution_count": 93,
   "metadata": {},
   "outputs": [
    {
     "name": "stdout",
     "output_type": "stream",
     "text": [
      "Unsqueeze: torch.Size([1, 1, 18])\n"
     ]
    }
   ],
   "source": [
    "#rworking with unsqueeze\n",
    "print('Unsqueeze:', x_reshape.unsqueeze(dim=0).shape)"
   ]
  },
  {
   "cell_type": "code",
   "execution_count": 111,
   "metadata": {},
   "outputs": [
    {
     "name": "stdout",
     "output_type": "stream",
     "text": [
      "Z shaped: torch.Size([224, 324, 3])\n",
      "Z permuted: torch.Size([324, 3, 224])\n"
     ]
    }
   ],
   "source": [
    "#working with torch permute\n",
    "z= torch.randn(size=(224,324,3)) ##height--0 , width-- 1 color --2\n",
    "\n",
    "print('Z shaped:', z.shape)\n",
    "#arranging the axis or dims ordr it takes the index \n",
    "z_prermute=torch.permute(z, (1,2,0))\n",
    "print('Z permuted:',z_prermute.shape)"
   ]
  },
  {
   "cell_type": "markdown",
   "metadata": {},
   "source": [
    "#### Tensor Indexing"
   ]
  },
  {
   "cell_type": "code",
   "execution_count": 125,
   "metadata": {},
   "outputs": [
    {
     "data": {
      "text/plain": [
       "tensor([[[1, 2, 3],\n",
       "         [4, 5, 6],\n",
       "         [7, 8, 9]]])"
      ]
     },
     "execution_count": 125,
     "metadata": {},
     "output_type": "execute_result"
    }
   ],
   "source": [
    "#1,3,3 --> 1 *3 *3\n",
    "a= torch.arange(1,10).reshape(1,3,3)\n",
    "a"
   ]
  },
  {
   "cell_type": "code",
   "execution_count": 133,
   "metadata": {},
   "outputs": [
    {
     "data": {
      "text/plain": [
       "tensor([[1, 2, 3],\n",
       "        [4, 5, 6],\n",
       "        [7, 8, 9]])"
      ]
     },
     "execution_count": 133,
     "metadata": {},
     "output_type": "execute_result"
    }
   ],
   "source": [
    "#accessing the first dimesion\n",
    "a[0]"
   ]
  },
  {
   "cell_type": "code",
   "execution_count": 129,
   "metadata": {},
   "outputs": [
    {
     "data": {
      "text/plain": [
       "tensor(9)"
      ]
     },
     "execution_count": 129,
     "metadata": {},
     "output_type": "execute_result"
    }
   ],
   "source": [
    "a[0][2][2]"
   ]
  },
  {
   "cell_type": "code",
   "execution_count": 143,
   "metadata": {},
   "outputs": [
    {
     "data": {
      "text/plain": [
       "tensor([5])"
      ]
     },
     "execution_count": 143,
     "metadata": {},
     "output_type": "execute_result"
    }
   ],
   "source": [
    "a[:, 1,1]"
   ]
  },
  {
   "cell_type": "code",
   "execution_count": 154,
   "metadata": {},
   "outputs": [
    {
     "data": {
      "text/plain": [
       "tensor([9])"
      ]
     },
     "execution_count": 154,
     "metadata": {},
     "output_type": "execute_result"
    }
   ],
   "source": [
    "a[:,2,2]"
   ]
  },
  {
   "cell_type": "code",
   "execution_count": 159,
   "metadata": {},
   "outputs": [
    {
     "data": {
      "text/plain": [
       "tensor([[3, 6, 9]])"
      ]
     },
     "execution_count": 159,
     "metadata": {},
     "output_type": "execute_result"
    }
   ],
   "source": [
    "#accessing the 2 index of the column rows\n",
    "a[:, :, 2]"
   ]
  },
  {
   "cell_type": "markdown",
   "metadata": {},
   "source": [
    "#### Pytorch and Numpy"
   ]
  },
  {
   "cell_type": "code",
   "execution_count": 160,
   "metadata": {},
   "outputs": [],
   "source": [
    "import numpy as np"
   ]
  },
  {
   "cell_type": "code",
   "execution_count": 167,
   "metadata": {},
   "outputs": [
    {
     "data": {
      "text/plain": [
       "(tensor([1., 2., 3., 4., 5., 6., 7., 8.], dtype=torch.float16),\n",
       " array([1, 2, 3, 4, 5, 6, 7, 8]))"
      ]
     },
     "execution_count": 167,
     "metadata": {},
     "output_type": "execute_result"
    }
   ],
   "source": [
    "#from numpy to torch\n",
    "array = np.arange(1,9)\n",
    "tensor = torch.from_numpy(array).type(torch.half)\n",
    "tensor, array"
   ]
  },
  {
   "cell_type": "code",
   "execution_count": 169,
   "metadata": {},
   "outputs": [
    {
     "data": {
      "text/plain": [
       "array([2, 3, 4, 5, 6, 7, 8, 9])"
      ]
     },
     "execution_count": 169,
     "metadata": {},
     "output_type": "execute_result"
    }
   ],
   "source": [
    "array= array +1\n",
    "array"
   ]
  },
  {
   "cell_type": "code",
   "execution_count": 172,
   "metadata": {},
   "outputs": [
    {
     "data": {
      "text/plain": [
       "tensor([1., 1., 1., 1., 1., 1., 1.])"
      ]
     },
     "execution_count": 172,
     "metadata": {},
     "output_type": "execute_result"
    }
   ],
   "source": [
    "tensor= torch.ones(7)\n",
    "tensor"
   ]
  },
  {
   "cell_type": "code",
   "execution_count": 174,
   "metadata": {},
   "outputs": [
    {
     "data": {
      "text/plain": [
       "array([1., 1., 1., 1., 1., 1., 1.], dtype=float32)"
      ]
     },
     "execution_count": 174,
     "metadata": {},
     "output_type": "execute_result"
    }
   ],
   "source": [
    "#from torch to numpy\n",
    "numpy_tensor = tensor.numpy()\n",
    "numpy_tensor"
   ]
  },
  {
   "cell_type": "markdown",
   "metadata": {},
   "source": [
    "### Reproducibility"
   ]
  },
  {
   "cell_type": "markdown",
   "metadata": {},
   "source": [
    "We need to reduce the reproduciblity of neural networks with random seeds"
   ]
  },
  {
   "cell_type": "code",
   "execution_count": 175,
   "metadata": {},
   "outputs": [
    {
     "data": {
      "text/plain": [
       "tensor([[False, False, False, False],\n",
       "        [False, False, False, False],\n",
       "        [False, False, False, False]])"
      ]
     },
     "execution_count": 175,
     "metadata": {},
     "output_type": "execute_result"
    }
   ],
   "source": [
    "rand_tensor_A = torch.randn(3,4)\n",
    "rand_tensor_B = torch.randn(3,4)\n",
    "\n",
    "\n",
    "\n",
    "rand_tensor_A == rand_tensor_B"
   ]
  },
  {
   "cell_type": "code",
   "execution_count": 179,
   "metadata": {},
   "outputs": [
    {
     "data": {
      "text/plain": [
       "tensor([[True, True, True, True],\n",
       "        [True, True, True, True],\n",
       "        [True, True, True, True]])"
      ]
     },
     "execution_count": 179,
     "metadata": {},
     "output_type": "execute_result"
    }
   ],
   "source": [
    "#setting the random seeds\n",
    "RANDOM_SEED =42\n",
    "torch.manual_seed(RANDOM_SEED)\n",
    "\n",
    "rand_tensor_C = torch.randn(3,4)\n",
    "\n",
    "torch.manual_seed(RANDOM_SEED)\n",
    "\n",
    "rand_tensor_D = torch.randn(3,4)\n",
    "\n",
    "\n",
    "\n",
    "rand_tensor_C == rand_tensor_D"
   ]
  }
 ],
 "metadata": {
  "kernelspec": {
   "display_name": "venv",
   "language": "python",
   "name": "python3"
  },
  "language_info": {
   "codemirror_mode": {
    "name": "ipython",
    "version": 3
   },
   "file_extension": ".py",
   "mimetype": "text/x-python",
   "name": "python",
   "nbconvert_exporter": "python",
   "pygments_lexer": "ipython3",
   "version": "3.10.8"
  }
 },
 "nbformat": 4,
 "nbformat_minor": 2
}
